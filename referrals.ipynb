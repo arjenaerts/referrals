{
 "cells": [
  {
   "cell_type": "markdown",
   "metadata": {},
   "source": [
    "# Referrals"
   ]
  },
  {
   "cell_type": "markdown",
   "metadata": {},
   "source": [
    "## Setup"
   ]
  },
  {
   "cell_type": "code",
   "execution_count": 1,
   "metadata": {},
   "outputs": [
    {
     "name": "stdout",
     "output_type": "stream",
     "text": [
      "Looking in indexes: https://qubit.jfrog.io/qubit/api/pypi/qubit-python/simple\n",
      "Requirement already satisfied: numpy in /Users/arjenaerts/.pyenv/versions/3.7.2/lib/python3.7/site-packages (1.17.0)\n",
      "\u001b[33mYou are using pip version 18.1, however version 20.0.2 is available.\n",
      "You should consider upgrading via the 'pip install --upgrade pip' command.\u001b[0m\n",
      "Looking in indexes: https://qubit.jfrog.io/qubit/api/pypi/qubit-python/simple\n",
      "Requirement already satisfied: pandas in /Users/arjenaerts/.pyenv/versions/3.7.2/lib/python3.7/site-packages (0.25.0)\n",
      "Requirement already satisfied: pytz>=2017.2 in /Users/arjenaerts/.pyenv/versions/3.7.2/lib/python3.7/site-packages (from pandas) (2019.3)\n",
      "Requirement already satisfied: python-dateutil>=2.6.1 in /Users/arjenaerts/.pyenv/versions/3.7.2/lib/python3.7/site-packages (from pandas) (2.8.0)\n",
      "Requirement already satisfied: numpy>=1.13.3 in /Users/arjenaerts/.pyenv/versions/3.7.2/lib/python3.7/site-packages (from pandas) (1.17.0)\n",
      "Requirement already satisfied: six>=1.5 in /Users/arjenaerts/.pyenv/versions/3.7.2/lib/python3.7/site-packages (from python-dateutil>=2.6.1->pandas) (1.12.0)\n",
      "\u001b[33mYou are using pip version 18.1, however version 20.0.2 is available.\n",
      "You should consider upgrading via the 'pip install --upgrade pip' command.\u001b[0m\n",
      "Looking in indexes: https://qubit.jfrog.io/qubit/api/pypi/qubit-python/simple\n",
      "Requirement already satisfied: matplotlib in /Users/arjenaerts/.pyenv/versions/3.7.2/lib/python3.7/site-packages (3.1.3)\n",
      "Requirement already satisfied: numpy>=1.11 in /Users/arjenaerts/.pyenv/versions/3.7.2/lib/python3.7/site-packages (from matplotlib) (1.17.0)\n",
      "Requirement already satisfied: python-dateutil>=2.1 in /Users/arjenaerts/.pyenv/versions/3.7.2/lib/python3.7/site-packages (from matplotlib) (2.8.0)\n",
      "Requirement already satisfied: kiwisolver>=1.0.1 in /Users/arjenaerts/.pyenv/versions/3.7.2/lib/python3.7/site-packages (from matplotlib) (1.1.0)\n",
      "Requirement already satisfied: cycler>=0.10 in /Users/arjenaerts/.pyenv/versions/3.7.2/lib/python3.7/site-packages (from matplotlib) (0.10.0)\n",
      "Requirement already satisfied: pyparsing!=2.0.4,!=2.1.2,!=2.1.6,>=2.0.1 in /Users/arjenaerts/.pyenv/versions/3.7.2/lib/python3.7/site-packages (from matplotlib) (2.4.6)\n",
      "Requirement already satisfied: six>=1.5 in /Users/arjenaerts/.pyenv/versions/3.7.2/lib/python3.7/site-packages (from python-dateutil>=2.1->matplotlib) (1.12.0)\n",
      "Requirement already satisfied: setuptools in /Users/arjenaerts/.pyenv/versions/3.7.2/lib/python3.7/site-packages (from kiwisolver>=1.0.1->matplotlib) (40.6.2)\n",
      "\u001b[33mYou are using pip version 18.1, however version 20.0.2 is available.\n",
      "You should consider upgrading via the 'pip install --upgrade pip' command.\u001b[0m\n"
     ]
    }
   ],
   "source": [
    "! pip install numpy\n",
    "! pip install pandas\n",
    "! pip install matplotlib"
   ]
  },
  {
   "cell_type": "code",
   "execution_count": 2,
   "metadata": {},
   "outputs": [],
   "source": [
    "import numpy as np\n",
    "import pandas as pd\n",
    "import matplotlib.pyplot as plt"
   ]
  },
  {
   "cell_type": "markdown",
   "metadata": {},
   "source": [
    "## Read data"
   ]
  },
  {
   "cell_type": "code",
   "execution_count": 3,
   "metadata": {},
   "outputs": [],
   "source": [
    "customer_data = pd.read_csv('180601_Customer_Info.csv')\n",
    "referrals_data = pd.read_csv('180601_Referrals_Info.csv')"
   ]
  },
  {
   "cell_type": "code",
   "execution_count": 4,
   "metadata": {},
   "outputs": [
    {
     "data": {
      "text/html": [
       "<div>\n",
       "<style scoped>\n",
       "    .dataframe tbody tr th:only-of-type {\n",
       "        vertical-align: middle;\n",
       "    }\n",
       "\n",
       "    .dataframe tbody tr th {\n",
       "        vertical-align: top;\n",
       "    }\n",
       "\n",
       "    .dataframe thead th {\n",
       "        text-align: right;\n",
       "    }\n",
       "</style>\n",
       "<table border=\"1\" class=\"dataframe\">\n",
       "  <thead>\n",
       "    <tr style=\"text-align: right;\">\n",
       "      <th></th>\n",
       "      <th>customer_id</th>\n",
       "      <th>sign_up_date</th>\n",
       "      <th>sign_up_channel</th>\n",
       "    </tr>\n",
       "  </thead>\n",
       "  <tbody>\n",
       "    <tr>\n",
       "      <th>0</th>\n",
       "      <td>2543</td>\n",
       "      <td>2021-04-26</td>\n",
       "      <td>Price Comparison Website</td>\n",
       "    </tr>\n",
       "    <tr>\n",
       "      <th>1</th>\n",
       "      <td>2181</td>\n",
       "      <td>2021-07-24</td>\n",
       "      <td>Referral</td>\n",
       "    </tr>\n",
       "    <tr>\n",
       "      <th>2</th>\n",
       "      <td>2399</td>\n",
       "      <td>2020-10-11</td>\n",
       "      <td>Bulb Website</td>\n",
       "    </tr>\n",
       "    <tr>\n",
       "      <th>3</th>\n",
       "      <td>674</td>\n",
       "      <td>2021-04-04</td>\n",
       "      <td>Referral</td>\n",
       "    </tr>\n",
       "    <tr>\n",
       "      <th>4</th>\n",
       "      <td>2332</td>\n",
       "      <td>2021-09-05</td>\n",
       "      <td>Price Comparison Website</td>\n",
       "    </tr>\n",
       "  </tbody>\n",
       "</table>\n",
       "</div>"
      ],
      "text/plain": [
       "   customer_id sign_up_date           sign_up_channel\n",
       "0         2543   2021-04-26  Price Comparison Website\n",
       "1         2181   2021-07-24                  Referral\n",
       "2         2399   2020-10-11              Bulb Website\n",
       "3          674   2021-04-04                  Referral\n",
       "4         2332   2021-09-05  Price Comparison Website"
      ]
     },
     "execution_count": 4,
     "metadata": {},
     "output_type": "execute_result"
    }
   ],
   "source": [
    "customer_data.head()"
   ]
  },
  {
   "cell_type": "code",
   "execution_count": 5,
   "metadata": {},
   "outputs": [
    {
     "data": {
      "text/html": [
       "<div>\n",
       "<style scoped>\n",
       "    .dataframe tbody tr th:only-of-type {\n",
       "        vertical-align: middle;\n",
       "    }\n",
       "\n",
       "    .dataframe tbody tr th {\n",
       "        vertical-align: top;\n",
       "    }\n",
       "\n",
       "    .dataframe thead th {\n",
       "        text-align: right;\n",
       "    }\n",
       "</style>\n",
       "<table border=\"1\" class=\"dataframe\">\n",
       "  <thead>\n",
       "    <tr style=\"text-align: right;\">\n",
       "      <th></th>\n",
       "      <th>referral_date</th>\n",
       "      <th>referrer_customer_id</th>\n",
       "      <th>sign_up_customer_id</th>\n",
       "    </tr>\n",
       "  </thead>\n",
       "  <tbody>\n",
       "    <tr>\n",
       "      <th>0</th>\n",
       "      <td>2021-07-18</td>\n",
       "      <td>795</td>\n",
       "      <td>1771</td>\n",
       "    </tr>\n",
       "    <tr>\n",
       "      <th>1</th>\n",
       "      <td>2021-04-12</td>\n",
       "      <td>577</td>\n",
       "      <td>1510</td>\n",
       "    </tr>\n",
       "    <tr>\n",
       "      <th>2</th>\n",
       "      <td>2021-07-07</td>\n",
       "      <td>868</td>\n",
       "      <td>1858</td>\n",
       "    </tr>\n",
       "    <tr>\n",
       "      <th>3</th>\n",
       "      <td>2021-10-25</td>\n",
       "      <td>801</td>\n",
       "      <td>1778</td>\n",
       "    </tr>\n",
       "    <tr>\n",
       "      <th>4</th>\n",
       "      <td>2021-08-15</td>\n",
       "      <td>690</td>\n",
       "      <td>1637</td>\n",
       "    </tr>\n",
       "  </tbody>\n",
       "</table>\n",
       "</div>"
      ],
      "text/plain": [
       "  referral_date  referrer_customer_id  sign_up_customer_id\n",
       "0    2021-07-18                   795                 1771\n",
       "1    2021-04-12                   577                 1510\n",
       "2    2021-07-07                   868                 1858\n",
       "3    2021-10-25                   801                 1778\n",
       "4    2021-08-15                   690                 1637"
      ]
     },
     "execution_count": 5,
     "metadata": {},
     "output_type": "execute_result"
    }
   ],
   "source": [
    "referrals_data.head()"
   ]
  },
  {
   "cell_type": "markdown",
   "metadata": {},
   "source": [
    "## Data assumptions"
   ]
  },
  {
   "cell_type": "markdown",
   "metadata": {},
   "source": [
    "Given that the dates in the data are fictional (i.e. we cannot make observations in the future), we will assume for computing the member lifetimes that the most recent time data point is the present. \n",
    "\n",
    "We will also assume that none of the customers in the dataset have churned. "
   ]
  },
  {
   "cell_type": "markdown",
   "metadata": {},
   "source": [
    "## When do members refer?"
   ]
  },
  {
   "cell_type": "code",
   "execution_count": 6,
   "metadata": {},
   "outputs": [],
   "source": [
    "data_inner = customer_data.merge(referrals_data, left_on='customer_id', right_on='referrer_customer_id').drop(columns=['referrer_customer_id']).rename(columns={'sign_up_customer_id': 'referent_customer_id', 'customer_id': 'referrer_customer_id'}).sort_values(by='referrer_customer_id')\n"
   ]
  },
  {
   "cell_type": "code",
   "execution_count": 7,
   "metadata": {},
   "outputs": [],
   "source": [
    "data_inner['sign_up_date'] = pd.to_datetime(data_inner['sign_up_date'])\n",
    "end_date = pd.to_datetime(data_inner['referral_date']).max()"
   ]
  },
  {
   "cell_type": "code",
   "execution_count": 8,
   "metadata": {},
   "outputs": [],
   "source": [
    "def calc_mean_referral_time(df, end_date):\n",
    "    n_referrals = len(df)\n",
    "    member_lifetime = end_date - df['sign_up_date'].unique()[0]\n",
    "    sign_up_channel = df['sign_up_channel'].unique()[0]\n",
    "    return pd.Series([n_referrals, member_lifetime, member_lifetime / n_referrals, sign_up_channel], index=['n_referrals', 'member_lifetime_days', 'mean_referral_time_days', 'sign_up_channel'])\n"
   ]
  },
  {
   "cell_type": "code",
   "execution_count": 9,
   "metadata": {},
   "outputs": [],
   "source": [
    "member_referral_stats = data_inner.groupby('referrer_customer_id').apply(calc_mean_referral_time, end_date=end_date)\n",
    "member_referral_stats['member_lifetime_days'] = member_referral_stats['member_lifetime_days'].dt.days\n",
    "member_referral_stats['mean_referral_time_days'] = member_referral_stats['mean_referral_time_days'].dt.days"
   ]
  },
  {
   "cell_type": "code",
   "execution_count": 10,
   "metadata": {},
   "outputs": [
    {
     "data": {
      "text/html": [
       "<div>\n",
       "<style scoped>\n",
       "    .dataframe tbody tr th:only-of-type {\n",
       "        vertical-align: middle;\n",
       "    }\n",
       "\n",
       "    .dataframe tbody tr th {\n",
       "        vertical-align: top;\n",
       "    }\n",
       "\n",
       "    .dataframe thead th {\n",
       "        text-align: right;\n",
       "    }\n",
       "</style>\n",
       "<table border=\"1\" class=\"dataframe\">\n",
       "  <thead>\n",
       "    <tr style=\"text-align: right;\">\n",
       "      <th></th>\n",
       "      <th>n_referrals</th>\n",
       "      <th>member_lifetime_days</th>\n",
       "      <th>mean_referral_time_days</th>\n",
       "      <th>sign_up_channel</th>\n",
       "    </tr>\n",
       "    <tr>\n",
       "      <th>referrer_customer_id</th>\n",
       "      <th></th>\n",
       "      <th></th>\n",
       "      <th></th>\n",
       "      <th></th>\n",
       "    </tr>\n",
       "  </thead>\n",
       "  <tbody>\n",
       "    <tr>\n",
       "      <th>0</th>\n",
       "      <td>1</td>\n",
       "      <td>562</td>\n",
       "      <td>562</td>\n",
       "      <td>Price Comparison Website</td>\n",
       "    </tr>\n",
       "    <tr>\n",
       "      <th>1</th>\n",
       "      <td>1</td>\n",
       "      <td>70</td>\n",
       "      <td>70</td>\n",
       "      <td>Bulb Website</td>\n",
       "    </tr>\n",
       "    <tr>\n",
       "      <th>2</th>\n",
       "      <td>1</td>\n",
       "      <td>274</td>\n",
       "      <td>274</td>\n",
       "      <td>Referral</td>\n",
       "    </tr>\n",
       "    <tr>\n",
       "      <th>3</th>\n",
       "      <td>1</td>\n",
       "      <td>153</td>\n",
       "      <td>153</td>\n",
       "      <td>Price Comparison Website</td>\n",
       "    </tr>\n",
       "    <tr>\n",
       "      <th>4</th>\n",
       "      <td>1</td>\n",
       "      <td>501</td>\n",
       "      <td>501</td>\n",
       "      <td>Price Comparison Website</td>\n",
       "    </tr>\n",
       "  </tbody>\n",
       "</table>\n",
       "</div>"
      ],
      "text/plain": [
       "                      n_referrals  member_lifetime_days  \\\n",
       "referrer_customer_id                                      \n",
       "0                               1                   562   \n",
       "1                               1                    70   \n",
       "2                               1                   274   \n",
       "3                               1                   153   \n",
       "4                               1                   501   \n",
       "\n",
       "                      mean_referral_time_days           sign_up_channel  \n",
       "referrer_customer_id                                                     \n",
       "0                                         562  Price Comparison Website  \n",
       "1                                          70              Bulb Website  \n",
       "2                                         274                  Referral  \n",
       "3                                         153  Price Comparison Website  \n",
       "4                                         501  Price Comparison Website  "
      ]
     },
     "execution_count": 10,
     "metadata": {},
     "output_type": "execute_result"
    }
   ],
   "source": [
    "member_referral_stats.head()"
   ]
  },
  {
   "cell_type": "code",
   "execution_count": 11,
   "metadata": {},
   "outputs": [
    {
     "data": {
      "text/html": [
       "<div>\n",
       "<style scoped>\n",
       "    .dataframe tbody tr th:only-of-type {\n",
       "        vertical-align: middle;\n",
       "    }\n",
       "\n",
       "    .dataframe tbody tr th {\n",
       "        vertical-align: top;\n",
       "    }\n",
       "\n",
       "    .dataframe thead th {\n",
       "        text-align: right;\n",
       "    }\n",
       "</style>\n",
       "<table border=\"1\" class=\"dataframe\">\n",
       "  <thead>\n",
       "    <tr style=\"text-align: right;\">\n",
       "      <th></th>\n",
       "      <th>n_referrals</th>\n",
       "      <th>member_lifetime_days</th>\n",
       "      <th>mean_referral_time_days</th>\n",
       "    </tr>\n",
       "  </thead>\n",
       "  <tbody>\n",
       "    <tr>\n",
       "      <th>count</th>\n",
       "      <td>701.000000</td>\n",
       "      <td>701.000000</td>\n",
       "      <td>701.000000</td>\n",
       "    </tr>\n",
       "    <tr>\n",
       "      <th>mean</th>\n",
       "      <td>1.186876</td>\n",
       "      <td>259.895863</td>\n",
       "      <td>249.453638</td>\n",
       "    </tr>\n",
       "    <tr>\n",
       "      <th>std</th>\n",
       "      <td>1.482526</td>\n",
       "      <td>138.917979</td>\n",
       "      <td>141.323447</td>\n",
       "    </tr>\n",
       "    <tr>\n",
       "      <th>min</th>\n",
       "      <td>1.000000</td>\n",
       "      <td>5.000000</td>\n",
       "      <td>5.000000</td>\n",
       "    </tr>\n",
       "    <tr>\n",
       "      <th>25%</th>\n",
       "      <td>1.000000</td>\n",
       "      <td>167.000000</td>\n",
       "      <td>164.000000</td>\n",
       "    </tr>\n",
       "    <tr>\n",
       "      <th>50%</th>\n",
       "      <td>1.000000</td>\n",
       "      <td>242.000000</td>\n",
       "      <td>226.000000</td>\n",
       "    </tr>\n",
       "    <tr>\n",
       "      <th>75%</th>\n",
       "      <td>1.000000</td>\n",
       "      <td>314.000000</td>\n",
       "      <td>302.000000</td>\n",
       "    </tr>\n",
       "    <tr>\n",
       "      <th>max</th>\n",
       "      <td>34.000000</td>\n",
       "      <td>972.000000</td>\n",
       "      <td>972.000000</td>\n",
       "    </tr>\n",
       "  </tbody>\n",
       "</table>\n",
       "</div>"
      ],
      "text/plain": [
       "       n_referrals  member_lifetime_days  mean_referral_time_days\n",
       "count   701.000000            701.000000               701.000000\n",
       "mean      1.186876            259.895863               249.453638\n",
       "std       1.482526            138.917979               141.323447\n",
       "min       1.000000              5.000000                 5.000000\n",
       "25%       1.000000            167.000000               164.000000\n",
       "50%       1.000000            242.000000               226.000000\n",
       "75%       1.000000            314.000000               302.000000\n",
       "max      34.000000            972.000000               972.000000"
      ]
     },
     "execution_count": 11,
     "metadata": {},
     "output_type": "execute_result"
    }
   ],
   "source": [
    "member_referral_stats.describe()"
   ]
  },
  {
   "cell_type": "code",
   "execution_count": 12,
   "metadata": {},
   "outputs": [
    {
     "data": {
      "text/plain": [
       "(array([692.,   4.,   3.,   1.,   0.,   0.,   0.,   0.,   0.,   1.]),\n",
       " array([ 1. ,  4.3,  7.6, 10.9, 14.2, 17.5, 20.8, 24.1, 27.4, 30.7, 34. ]),\n",
       " <a list of 10 Patch objects>)"
      ]
     },
     "execution_count": 12,
     "metadata": {},
     "output_type": "execute_result"
    },
    {
     "data": {
      "image/png": "[encoded data removed]",
      "text/plain": [
       "<Figure size 432x288 with 1 Axes>"
      ]
     },
     "metadata": {
      "needs_background": "light"
     },
     "output_type": "display_data"
    }
   ],
   "source": [
    "plt.hist(member_referral_stats['n_referrals'])"
   ]
  },
  {
   "cell_type": "code",
   "execution_count": 13,
   "metadata": {},
   "outputs": [
    {
     "data": {
      "text/plain": [
       "(array([ 48., 239., 211.,  96.,  53.,  36.,   9.,   4.,   4.,   1.]),\n",
       " array([  5. , 101.7, 198.4, 295.1, 391.8, 488.5, 585.2, 681.9, 778.6,\n",
       "        875.3, 972. ]),\n",
       " <a list of 10 Patch objects>)"
      ]
     },
     "execution_count": 13,
     "metadata": {},
     "output_type": "execute_result"
    },
    {
     "data": {
      "image/png": "[encoded data removed]",
      "text/plain": [
       "<Figure size 432x288 with 1 Axes>"
      ]
     },
     "metadata": {
      "needs_background": "light"
     },
     "output_type": "display_data"
    }
   ],
   "source": [
    "plt.hist(member_referral_stats['member_lifetime_days'])"
   ]
  },
  {
   "cell_type": "code",
   "execution_count": 14,
   "metadata": {},
   "outputs": [
    {
     "data": {
      "text/plain": [
       "(array([ 70., 243., 201.,  87.,  49.,  34.,   8.,   4.,   4.,   1.]),\n",
       " array([  5. , 101.7, 198.4, 295.1, 391.8, 488.5, 585.2, 681.9, 778.6,\n",
       "        875.3, 972. ]),\n",
       " <a list of 10 Patch objects>)"
      ]
     },
     "execution_count": 14,
     "metadata": {},
     "output_type": "execute_result"
    },
    {
     "data": {
      "image/png": "[encoded data removed]",
      "text/plain": [
       "<Figure size 432x288 with 1 Axes>"
      ]
     },
     "metadata": {
      "needs_background": "light"
     },
     "output_type": "display_data"
    }
   ],
   "source": [
    "plt.hist(member_referral_stats['mean_referral_time_days'])"
   ]
  },
  {
   "cell_type": "markdown",
   "metadata": {},
   "source": [
    "It seems that the vast majority of members have only referred once. Therefore, the average referral time estimate per customer is probably inaccurate for most customers. Hierarchical estimation methods that pool data over all customers should help improve the estimates for one-time referrers that have signed up recently.\n",
    "\n",
    "Also, it may be possible that the referral rate is not homogeneous: firstly, it should accelerate when the customer gets its first referral money (as this confirms the use); secondly, at some point someone depletes his or her social circle, so it should slow done at the end. This could be taken into account by estimating a model where referral rate has a quadratic dependence on time. Again, coefficients can be estimated in hierarchical fashion."
   ]
  },
  {
   "cell_type": "markdown",
   "metadata": {},
   "source": [
    "## Does the channel members are acquired from significantly impact how they refer?\n"
   ]
  },
  {
   "cell_type": "code",
   "execution_count": 15,
   "metadata": {},
   "outputs": [],
   "source": [
    "data = customer_data.merge(referrals_data, left_on='customer_id', right_on='referrer_customer_id', how='left').drop(columns=['referrer_customer_id']).rename(columns={'sign_up_customer_id': 'referent_customer_id', 'customer_id': 'referrer_customer_id'}).sort_values(by='referrer_customer_id')\n"
   ]
  },
  {
   "cell_type": "code",
   "execution_count": 16,
   "metadata": {},
   "outputs": [
    {
     "data": {
      "text/html": [
       "<div>\n",
       "<style scoped>\n",
       "    .dataframe tbody tr th:only-of-type {\n",
       "        vertical-align: middle;\n",
       "    }\n",
       "\n",
       "    .dataframe tbody tr th {\n",
       "        vertical-align: top;\n",
       "    }\n",
       "\n",
       "    .dataframe thead th {\n",
       "        text-align: right;\n",
       "    }\n",
       "</style>\n",
       "<table border=\"1\" class=\"dataframe\">\n",
       "  <thead>\n",
       "    <tr style=\"text-align: right;\">\n",
       "      <th></th>\n",
       "      <th>referrer_customer_id</th>\n",
       "      <th>sign_up_date</th>\n",
       "      <th>sign_up_channel</th>\n",
       "      <th>referral_date</th>\n",
       "      <th>referent_customer_id</th>\n",
       "    </tr>\n",
       "  </thead>\n",
       "  <tbody>\n",
       "    <tr>\n",
       "      <th>1083</th>\n",
       "      <td>0</td>\n",
       "      <td>2020-06-20</td>\n",
       "      <td>Price Comparison Website</td>\n",
       "      <td>2021-05-29</td>\n",
       "      <td>869.0</td>\n",
       "    </tr>\n",
       "    <tr>\n",
       "      <th>402</th>\n",
       "      <td>1</td>\n",
       "      <td>2021-10-25</td>\n",
       "      <td>Bulb Website</td>\n",
       "      <td>2021-12-23</td>\n",
       "      <td>870.0</td>\n",
       "    </tr>\n",
       "    <tr>\n",
       "      <th>724</th>\n",
       "      <td>2</td>\n",
       "      <td>2021-04-04</td>\n",
       "      <td>Referral</td>\n",
       "      <td>2021-04-10</td>\n",
       "      <td>871.0</td>\n",
       "    </tr>\n",
       "    <tr>\n",
       "      <th>710</th>\n",
       "      <td>3</td>\n",
       "      <td>2021-08-03</td>\n",
       "      <td>Price Comparison Website</td>\n",
       "      <td>2021-12-30</td>\n",
       "      <td>872.0</td>\n",
       "    </tr>\n",
       "    <tr>\n",
       "      <th>1551</th>\n",
       "      <td>4</td>\n",
       "      <td>2020-08-20</td>\n",
       "      <td>Price Comparison Website</td>\n",
       "      <td>2021-08-16</td>\n",
       "      <td>873.0</td>\n",
       "    </tr>\n",
       "    <tr>\n",
       "      <th>204</th>\n",
       "      <td>6</td>\n",
       "      <td>2020-12-25</td>\n",
       "      <td>Referral</td>\n",
       "      <td>2021-07-14</td>\n",
       "      <td>1034.0</td>\n",
       "    </tr>\n",
       "    <tr>\n",
       "      <th>207</th>\n",
       "      <td>6</td>\n",
       "      <td>2020-12-25</td>\n",
       "      <td>Referral</td>\n",
       "      <td>2021-03-08</td>\n",
       "      <td>1764.0</td>\n",
       "    </tr>\n",
       "    <tr>\n",
       "      <th>205</th>\n",
       "      <td>6</td>\n",
       "      <td>2020-12-25</td>\n",
       "      <td>Referral</td>\n",
       "      <td>2021-07-17</td>\n",
       "      <td>1588.0</td>\n",
       "    </tr>\n",
       "    <tr>\n",
       "      <th>206</th>\n",
       "      <td>6</td>\n",
       "      <td>2020-12-25</td>\n",
       "      <td>Referral</td>\n",
       "      <td>2021-05-05</td>\n",
       "      <td>1161.0</td>\n",
       "    </tr>\n",
       "    <tr>\n",
       "      <th>213</th>\n",
       "      <td>6</td>\n",
       "      <td>2020-12-25</td>\n",
       "      <td>Referral</td>\n",
       "      <td>2021-05-05</td>\n",
       "      <td>1308.0</td>\n",
       "    </tr>\n",
       "  </tbody>\n",
       "</table>\n",
       "</div>"
      ],
      "text/plain": [
       "      referrer_customer_id sign_up_date           sign_up_channel  \\\n",
       "1083                     0   2020-06-20  Price Comparison Website   \n",
       "402                      1   2021-10-25              Bulb Website   \n",
       "724                      2   2021-04-04                  Referral   \n",
       "710                      3   2021-08-03  Price Comparison Website   \n",
       "1551                     4   2020-08-20  Price Comparison Website   \n",
       "204                      6   2020-12-25                  Referral   \n",
       "207                      6   2020-12-25                  Referral   \n",
       "205                      6   2020-12-25                  Referral   \n",
       "206                      6   2020-12-25                  Referral   \n",
       "213                      6   2020-12-25                  Referral   \n",
       "\n",
       "     referral_date  referent_customer_id  \n",
       "1083    2021-05-29                 869.0  \n",
       "402     2021-12-23                 870.0  \n",
       "724     2021-04-10                 871.0  \n",
       "710     2021-12-30                 872.0  \n",
       "1551    2021-08-16                 873.0  \n",
       "204     2021-07-14                1034.0  \n",
       "207     2021-03-08                1764.0  \n",
       "205     2021-07-17                1588.0  \n",
       "206     2021-05-05                1161.0  \n",
       "213     2021-05-05                1308.0  "
      ]
     },
     "execution_count": 16,
     "metadata": {},
     "output_type": "execute_result"
    }
   ],
   "source": [
    "data.head(n=10)"
   ]
  },
  {
   "cell_type": "code",
   "execution_count": 17,
   "metadata": {},
   "outputs": [],
   "source": [
    "data['referral_time_days'] = (pd.to_datetime(data['referral_date']) - pd.to_datetime(data['sign_up_date'])).dt.days\n"
   ]
  },
  {
   "cell_type": "markdown",
   "metadata": {},
   "source": [
    "Let's first look at the impact of channel on whether or not members refer"
   ]
  },
  {
   "cell_type": "code",
   "execution_count": 18,
   "metadata": {},
   "outputs": [
    {
     "data": {
      "text/plain": [
       "sign_up_channel\n",
       "Bulb Website                195\n",
       "Price Comparison Website    599\n",
       "Referral                    203\n",
       "dtype: int64"
      ]
     },
     "execution_count": 18,
     "metadata": {},
     "output_type": "execute_result"
    }
   ],
   "source": [
    "data[data['referent_customer_id'].isnull()].groupby('sign_up_channel').size()"
   ]
  },
  {
   "cell_type": "markdown",
   "metadata": {},
   "source": [
    "Among those who have not referred, around 60% came in via a price comparison website, 20% via the bulb website and another 20% via referrals "
   ]
  },
  {
   "cell_type": "code",
   "execution_count": 19,
   "metadata": {},
   "outputs": [
    {
     "data": {
      "text/plain": [
       "sign_up_channel\n",
       "Bulb Website                195\n",
       "Price Comparison Website    188\n",
       "Referral                    449\n",
       "dtype: int64"
      ]
     },
     "execution_count": 19,
     "metadata": {},
     "output_type": "execute_result"
    }
   ],
   "source": [
    "data[~data['referent_customer_id'].isnull()].groupby('sign_up_channel').size()"
   ]
  },
  {
   "cell_type": "markdown",
   "metadata": {},
   "source": [
    "Interestingly, among those that have referred, more than half have come in via referrals, whereas the other channels command a little under a quarter each. There seems to be a significant effect of sign up channel on referral behaviour. To figure out whether it is really (statistically) significant, one would have to do a test to see whether the two fractions (20% and 50% respectively) are different enough, given the number of observations. Intuitively it makes sense because when someone is referred he or she knows about the referral programme, hence is more likely to use it."
   ]
  },
  {
   "cell_type": "markdown",
   "metadata": {},
   "source": [
    "Next, let's have a look at the effect of channel within the group of members that have referred at least once."
   ]
  },
  {
   "cell_type": "code",
   "execution_count": 20,
   "metadata": {
    "scrolled": true
   },
   "outputs": [
    {
     "data": {
      "text/html": [
       "<div>\n",
       "<style scoped>\n",
       "    .dataframe tbody tr th:only-of-type {\n",
       "        vertical-align: middle;\n",
       "    }\n",
       "\n",
       "    .dataframe tbody tr th {\n",
       "        vertical-align: top;\n",
       "    }\n",
       "\n",
       "    .dataframe thead th {\n",
       "        text-align: right;\n",
       "    }\n",
       "</style>\n",
       "<table border=\"1\" class=\"dataframe\">\n",
       "  <thead>\n",
       "    <tr style=\"text-align: right;\">\n",
       "      <th></th>\n",
       "      <th>n_referrals</th>\n",
       "      <th>member_lifetime_days</th>\n",
       "      <th>mean_referral_time_days</th>\n",
       "    </tr>\n",
       "    <tr>\n",
       "      <th>sign_up_channel</th>\n",
       "      <th></th>\n",
       "      <th></th>\n",
       "      <th></th>\n",
       "    </tr>\n",
       "  </thead>\n",
       "  <tbody>\n",
       "    <tr>\n",
       "      <th>Bulb Website</th>\n",
       "      <td>1.0</td>\n",
       "      <td>260.5</td>\n",
       "      <td>256.0</td>\n",
       "    </tr>\n",
       "    <tr>\n",
       "      <th>Price Comparison Website</th>\n",
       "      <td>1.0</td>\n",
       "      <td>273.0</td>\n",
       "      <td>270.0</td>\n",
       "    </tr>\n",
       "    <tr>\n",
       "      <th>Referral</th>\n",
       "      <td>1.0</td>\n",
       "      <td>184.5</td>\n",
       "      <td>172.0</td>\n",
       "    </tr>\n",
       "  </tbody>\n",
       "</table>\n",
       "</div>"
      ],
      "text/plain": [
       "                          n_referrals  member_lifetime_days  \\\n",
       "sign_up_channel                                               \n",
       "Bulb Website                      1.0                 260.5   \n",
       "Price Comparison Website          1.0                 273.0   \n",
       "Referral                          1.0                 184.5   \n",
       "\n",
       "                          mean_referral_time_days  \n",
       "sign_up_channel                                    \n",
       "Bulb Website                                256.0  \n",
       "Price Comparison Website                    270.0  \n",
       "Referral                                    172.0  "
      ]
     },
     "execution_count": 20,
     "metadata": {},
     "output_type": "execute_result"
    }
   ],
   "source": [
    "member_referral_stats.groupby('sign_up_channel').median()"
   ]
  },
  {
   "cell_type": "code",
   "execution_count": 21,
   "metadata": {},
   "outputs": [
    {
     "data": {
      "text/html": [
       "<div>\n",
       "<style scoped>\n",
       "    .dataframe tbody tr th:only-of-type {\n",
       "        vertical-align: middle;\n",
       "    }\n",
       "\n",
       "    .dataframe tbody tr th {\n",
       "        vertical-align: top;\n",
       "    }\n",
       "\n",
       "    .dataframe thead th {\n",
       "        text-align: right;\n",
       "    }\n",
       "</style>\n",
       "<table border=\"1\" class=\"dataframe\">\n",
       "  <thead>\n",
       "    <tr style=\"text-align: right;\">\n",
       "      <th></th>\n",
       "      <th>n_referrals</th>\n",
       "      <th>member_lifetime_days</th>\n",
       "      <th>mean_referral_time_days</th>\n",
       "    </tr>\n",
       "    <tr>\n",
       "      <th>sign_up_channel</th>\n",
       "      <th></th>\n",
       "      <th></th>\n",
       "      <th></th>\n",
       "    </tr>\n",
       "  </thead>\n",
       "  <tbody>\n",
       "    <tr>\n",
       "      <th>Bulb Website</th>\n",
       "      <td>1.221519</td>\n",
       "      <td>302.715190</td>\n",
       "      <td>298.803797</td>\n",
       "    </tr>\n",
       "    <tr>\n",
       "      <th>Price Comparison Website</th>\n",
       "      <td>1.049724</td>\n",
       "      <td>304.861878</td>\n",
       "      <td>298.414365</td>\n",
       "    </tr>\n",
       "    <tr>\n",
       "      <th>Referral</th>\n",
       "      <td>1.240331</td>\n",
       "      <td>218.723757</td>\n",
       "      <td>203.433702</td>\n",
       "    </tr>\n",
       "  </tbody>\n",
       "</table>\n",
       "</div>"
      ],
      "text/plain": [
       "                          n_referrals  member_lifetime_days  \\\n",
       "sign_up_channel                                               \n",
       "Bulb Website                 1.221519            302.715190   \n",
       "Price Comparison Website     1.049724            304.861878   \n",
       "Referral                     1.240331            218.723757   \n",
       "\n",
       "                          mean_referral_time_days  \n",
       "sign_up_channel                                    \n",
       "Bulb Website                           298.803797  \n",
       "Price Comparison Website               298.414365  \n",
       "Referral                               203.433702  "
      ]
     },
     "execution_count": 21,
     "metadata": {},
     "output_type": "execute_result"
    }
   ],
   "source": [
    "member_referral_stats.groupby('sign_up_channel').mean()"
   ]
  },
  {
   "cell_type": "markdown",
   "metadata": {},
   "source": [
    "It seems that members who have come in through a referral programme take less time to refer, on average, than those from other channels. This is because they have made more referrals on average in a shorter average lifetime. This shorter lifetime is probably a consequence of the success of the referral programme: many of those in the referral channel group will have been referred by other members in the same group, so the lifetime distribution is skewed towards newcomers."
   ]
  },
  {
   "cell_type": "markdown",
   "metadata": {},
   "source": [
    "## We can send an email to members to invite them to refer their friends. We can choose when, and to whom, we send the emails. How should we proceed?\n"
   ]
  },
  {
   "cell_type": "markdown",
   "metadata": {},
   "source": [
    "First, we should remind ourselves that sending emails entails a cost, because people generally don't like being spammed. Therefore, we should send emails at the right time, to those members on which it will have the highest impact. (Ideally, we would want to measure the causal impact of emails, while optimising for it, perhaps through a reinforcement learning framework.) However, because those who get referred, can themselves refer and then refer faster, there is a powerful network effect that may compensate for the few members that may become alienated on account of those emails. Finally, most people need some time to become converts, before they are ready to refer a service or product.\n",
    "\n",
    "We can split up our member base into 4 groups: (1) those who have come in through referral, but have not referred; (2) those who have come in through referral and have referred; (3) those who have not come in through referral and have not referred; and (4) those who have not come in through referrral, but have referred.  \n",
    "\n",
    "Members of group (3) are the only ones that have not had any exposure to the referral programme. Therefore, they should be sent an email soon (e.g. a month after they sign up or sooner for those who have signed up already). We have mean referral time estimates for groups (2) and (4), so we should probably send them an email their mean referral time after their last referral. Finally, group (1) knows about referral but may not have had the time to refer. For them, we can use the average mean referral time estimate of group (2) to decide how long after their initial sign up we should send them an email.  \n"
   ]
  },
  {
   "cell_type": "markdown",
   "metadata": {},
   "source": [
    "In future work, we could also look at the average first referral time, because that may inform when we send emails to those who have never referred before. "
   ]
  }
 ],
 "metadata": {
  "kernelspec": {
   "display_name": "Python 3",
   "language": "python",
   "name": "python3"
  },
  "language_info": {
   "codemirror_mode": {
    "name": "ipython",
    "version": 3
   },
   "file_extension": ".py",
   "mimetype": "text/x-python",
   "name": "python",
   "nbconvert_exporter": "python",
   "pygments_lexer": "ipython3",
   "version": "3.7.2"
  }
 },
 "nbformat": 4,
 "nbformat_minor": 4
}
